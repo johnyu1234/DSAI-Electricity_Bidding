{
 "cells": [
  {
   "cell_type": "code",
   "execution_count": null,
   "metadata": {},
   "outputs": [],
   "source": [
    "import pandas as pd\n",
    "import matplotlib.pyplot as plt\n",
    "\n",
    "df = pd.read_csv(\"training_data/target0.csv\")\n",
    "plt.figure(figsize=(8, 6), dpi=80)\n",
    "plt.xlim(1000, 2000)\n",
    "plt.plot(df['consumption'], label='consumption')\n",
    "plt.plot(df['generation'], label='generation')\n",
    "plt.legend()"
   ]
  }
 ],
 "metadata": {
  "language_info": {
   "name": "python"
  },
  "orig_nbformat": 4
 },
 "nbformat": 4,
 "nbformat_minor": 2
}
